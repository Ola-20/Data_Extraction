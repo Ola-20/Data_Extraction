{
 "cells": [
  {
   "cell_type": "markdown",
   "id": "140379aa",
   "metadata": {},
   "source": [
    "## REGEX to extract phone number\n"
   ]
  },
  {
   "cell_type": "code",
   "execution_count": 4,
   "id": "b484168e",
   "metadata": {},
   "outputs": [],
   "source": [
    "import re\n"
   ]
  },
  {
   "cell_type": "code",
   "execution_count": 14,
   "id": "d6011f18",
   "metadata": {},
   "outputs": [],
   "source": [
    "text = \"patience phone number is (437)-225-6221. Wife's phone number is 7223448332 and their bill amount is 120$\"\n",
    "parttern=\"\\d{10}|\\(\\d{3}\\)-\\d{3}-\\d{4}|\\d{3}\\$\""
   ]
  },
  {
   "cell_type": "code",
   "execution_count": 15,
   "id": "2c635af9",
   "metadata": {},
   "outputs": [
    {
     "data": {
      "text/plain": [
       "['(437)-225-6221', '7223448332', '120$']"
      ]
     },
     "execution_count": 15,
     "metadata": {},
     "output_type": "execute_result"
    }
   ],
   "source": [
    "re.findall(parttern, text)"
   ]
  },
  {
   "cell_type": "code",
   "execution_count": 33,
   "id": "8216fb59",
   "metadata": {},
   "outputs": [
    {
     "data": {
      "text/plain": [
       "<re.Match object; span=(25, 104), match=\"(437)-225-6221. Wife's phone number is 7223448332>"
      ]
     },
     "execution_count": 33,
     "metadata": {},
     "output_type": "execute_result"
    }
   ],
   "source": [
    "pat=\"(\\(\\d{3}\\)-\\d{3}-\\d{4})\\D+(\\d{10})\\D+(\\d{3})\\$\"\n",
    "match = re.search(pat,text)\n",
    "match"
   ]
  },
  {
   "cell_type": "code",
   "execution_count": 35,
   "id": "c7ae567f",
   "metadata": {},
   "outputs": [],
   "source": [
    "phone_1,phone_2,bill = match.groups()"
   ]
  },
  {
   "cell_type": "code",
   "execution_count": 36,
   "id": "07edaca0",
   "metadata": {},
   "outputs": [
    {
     "data": {
      "text/plain": [
       "'(437)-225-6221'"
      ]
     },
     "execution_count": 36,
     "metadata": {},
     "output_type": "execute_result"
    }
   ],
   "source": [
    "phone_1"
   ]
  },
  {
   "cell_type": "code",
   "execution_count": 37,
   "id": "658e8fb6",
   "metadata": {},
   "outputs": [
    {
     "data": {
      "text/plain": [
       "'120'"
      ]
     },
     "execution_count": 37,
     "metadata": {},
     "output_type": "execute_result"
    }
   ],
   "source": [
    "bill"
   ]
  },
  {
   "cell_type": "code",
   "execution_count": 1,
   "id": "0abc5148",
   "metadata": {},
   "outputs": [],
   "source": [
    "#Extract all Twitter handles from the following text (i.e. your answer should be teslarati, dummy_tesla, and dummy_2_tesla). \n",
    "#Twitter handle is the text that appears after https://twitter.com/ and is a single word. Also, \n",
    "#it contains only alphanumeric characters i.e. A-Z a-z, o to 9, and underscore _\n",
    "\n",
    "text = '''\n",
    "Follow our leader Elon musk on Twitter \n",
    "here: https://twitter.com/elonmusk, more information \n",
    "on Tesla's products can be found at https://www.tesla.com/. \n",
    "Also here are leading influencers for tesla-related news, \n",
    "https://twitter.com/teslarati\n",
    "https://twitter.com/dummy_tesla\n",
    "https://twitter.com/dummy_2_tesla'''"
   ]
  },
  {
   "cell_type": "code",
   "execution_count": 9,
   "id": "0bf2425e",
   "metadata": {},
   "outputs": [],
   "source": [
    "def extracss(files):\n",
    "     \n",
    "    import re\n",
    "    pattern = 'https:\\/\\/tw.*\\/([a-zA-Z0-9_]*)'\n",
    "    matches = re.findall(pattern, files)\n",
    "    \n",
    "    return matches "
   ]
  },
  {
   "cell_type": "code",
   "execution_count": 10,
   "id": "3020598c",
   "metadata": {},
   "outputs": [
    {
     "data": {
      "text/plain": [
       "['elonmusk', 'teslarati', 'dummy_tesla', 'dummy_2_tesla']"
      ]
     },
     "execution_count": 10,
     "metadata": {},
     "output_type": "execute_result"
    }
   ],
   "source": [
    "extracss(text)"
   ]
  },
  {
   "cell_type": "code",
   "execution_count": null,
   "id": "61d0e077",
   "metadata": {},
   "outputs": [],
   "source": []
  }
 ],
 "metadata": {
  "kernelspec": {
   "display_name": "Python 3 (ipykernel)",
   "language": "python",
   "name": "python3"
  },
  "language_info": {
   "codemirror_mode": {
    "name": "ipython",
    "version": 3
   },
   "file_extension": ".py",
   "mimetype": "text/x-python",
   "name": "python",
   "nbconvert_exporter": "python",
   "pygments_lexer": "ipython3",
   "version": "3.8.10"
  }
 },
 "nbformat": 4,
 "nbformat_minor": 5
}
